{
  "cells": [
    {
      "cell_type": "markdown",
      "metadata": {},
      "source": [
        "IMPLEMENTASI MODEL"
      ]
    },
    {
      "cell_type": "code",
      "execution_count": 2,
      "metadata": {},
      "outputs": [
        {
          "name": "stdout",
          "output_type": "stream",
          "text": [
            "Epoch 1/10\n",
            "816/816 [==============================] - 16s 18ms/step - loss: 1.9807 - accuracy: 0.6036 - val_loss: 1.1331 - val_accuracy: 0.7511\n",
            "Epoch 2/10\n",
            "816/816 [==============================] - 14s 17ms/step - loss: 0.7622 - accuracy: 0.8338 - val_loss: 0.6566 - val_accuracy: 0.8558\n",
            "Epoch 3/10\n",
            "816/816 [==============================] - 15s 18ms/step - loss: 0.4029 - accuracy: 0.9058 - val_loss: 0.4929 - val_accuracy: 0.8991\n",
            "Epoch 4/10\n",
            "816/816 [==============================] - 15s 18ms/step - loss: 0.2375 - accuracy: 0.9431 - val_loss: 0.4350 - val_accuracy: 0.9128\n",
            "Epoch 5/10\n",
            "816/816 [==============================] - 14s 18ms/step - loss: 0.1377 - accuracy: 0.9694 - val_loss: 0.4127 - val_accuracy: 0.9204\n",
            "Epoch 6/10\n",
            "816/816 [==============================] - 14s 17ms/step - loss: 0.0755 - accuracy: 0.9847 - val_loss: 0.4088 - val_accuracy: 0.9258\n",
            "Epoch 7/10\n",
            "816/816 [==============================] - 14s 17ms/step - loss: 0.0387 - accuracy: 0.9936 - val_loss: 0.4181 - val_accuracy: 0.9292\n",
            "Epoch 8/10\n",
            "816/816 [==============================] - 14s 18ms/step - loss: 0.0198 - accuracy: 0.9975 - val_loss: 0.4264 - val_accuracy: 0.9306\n",
            "Epoch 9/10\n",
            "816/816 [==============================] - 15s 18ms/step - loss: 0.0105 - accuracy: 0.9990 - val_loss: 0.4309 - val_accuracy: 0.9310\n",
            "Epoch 10/10\n",
            "816/816 [==============================] - 14s 17ms/step - loss: 0.0056 - accuracy: 0.9995 - val_loss: 0.4443 - val_accuracy: 0.9353\n",
            "255/255 [==============================] - 1s 4ms/step\n",
            "Accuracy: 0.9340282035561005\n"
          ]
        }
      ],
      "source": [
        "import pandas as pd\n",
        "import numpy as np\n",
        "from sklearn.model_selection import train_test_split\n",
        "from tensorflow.keras.models import Sequential\n",
        "from tensorflow.keras.layers import Embedding, Conv1D, GlobalMaxPooling1D, Dense\n",
        "from tensorflow.keras.preprocessing.text import Tokenizer\n",
        "from tensorflow.keras.preprocessing.sequence import pad_sequences\n",
        "from tensorflow.keras.utils import to_categorical\n",
        "from sklearn.preprocessing import LabelEncoder\n",
        "from sklearn.metrics import accuracy_score\n",
        "\n",
        "# Langkah 1: Baca dataset\n",
        "file_path = 'hasil_deteksi_emosi.xlsx'  # Ganti dengan path yang benar\n",
        "df = pd.read_excel(file_path)\n",
        "\n",
        "# Langkah 2: Preprocessing Teks\n",
        "# Tokenisasi teks\n",
        "tokenizer = Tokenizer(num_words=10000)  # Menggunakan 10.000 kata paling umum di dataset\n",
        "tokenizer.fit_on_texts(df['comment_text'])\n",
        "sequences = tokenizer.texts_to_sequences(df['comment_text'])\n",
        "\n",
        "# Padding sequence\n",
        "maxlen = 150  # Menentukan panjang maksimal sequence\n",
        "X = pad_sequences(sequences, maxlen=maxlen)\n",
        "\n",
        "# Langkah 3: Persiapan Label\n",
        "# Encode label ke bentuk numerik\n",
        "label_encoder = LabelEncoder()\n",
        "df['combined_emotions'] = df.apply(lambda row: '-'.join(row[df.columns[3:]].astype(str)), axis=1)\n",
        "y = label_encoder.fit_transform(df['combined_emotions'])\n",
        "\n",
        "# One-hot encoding label\n",
        "y = to_categorical(y)\n",
        "\n",
        "# Langkah 4: Membagi Data\n",
        "# Membagi dataset menjadi set pelatihan dan pengujian\n",
        "X_train, X_test, y_train, y_test = train_test_split(X, y, test_size=0.2, random_state=42)\n",
        "\n",
        "# Langkah 5: Membangun Model CNN\n",
        "model = Sequential([\n",
        "    Embedding(input_dim=10000, output_dim=128, input_length=maxlen),\n",
        "    Conv1D(filters=128, kernel_size=3, activation='relu'),\n",
        "    GlobalMaxPooling1D(),\n",
        "    Dense(units=y.shape[1], activation='softmax')  # Jumlah unit sesuai dengan jumlah label unik\n",
        "])\n",
        "\n",
        "# Langkah 6: Kompilasi Model\n",
        "model.compile(optimizer='adam', loss='categorical_crossentropy', metrics=['accuracy'])\n",
        "\n",
        "# Langkah 7: Melatih Model\n",
        "model.fit(X_train, y_train, epochs=10, batch_size=32, validation_split=0.2)\n",
        "\n",
        "# Langkah 8: Evaluasi Model\n",
        "y_pred = model.predict(X_test)\n",
        "accuracy = accuracy_score(np.argmax(y_test, axis=1), np.argmax(y_pred, axis=1))\n",
        "\n",
        "# Langkah 9: Menampilkan Akurasi\n",
        "print(f\"Accuracy: {accuracy}\")\n"
      ]
    },
    {
      "cell_type": "code",
      "execution_count": 9,
      "metadata": {},
      "outputs": [
        {
          "name": "stdout",
          "output_type": "stream",
          "text": [
            "1/1 [==============================] - 0s 38ms/step\n"
          ]
        },
        {
          "data": {
            "text/plain": [
              "array(['Joy-Surprise-nan-nan-nan-nan-nan-nan'], dtype=object)"
            ]
          },
          "execution_count": 9,
          "metadata": {},
          "output_type": "execute_result"
        }
      ],
      "source": [
        "def predict_emotion(text, tokenizer, model, label_encoder, maxlen=150):\n",
        "    # Preprocessing teks\n",
        "    sequence = tokenizer.texts_to_sequences([text])\n",
        "    padded_sequence = pad_sequences(sequence, maxlen=maxlen)\n",
        "    \n",
        "    # Membuat prediksi\n",
        "    prediction = model.predict(padded_sequence)\n",
        "    # Mendapatkan kelas dengan probabilitas tertinggi\n",
        "    class_index = np.argmax(prediction, axis=1)\n",
        "    # Mengonversi indeks kelas kembali menjadi label asli\n",
        "    emotion_label = label_encoder.inverse_transform(class_index)\n",
        "    return emotion_label\n",
        "\n",
        "# Contoh teks untuk diuji\n",
        "sample_text = \"Saya sangat senang hari ini!\"\n",
        "\n",
        "# Memanggil fungsi predict_emotion dengan teks contoh\n",
        "predicted_emotion = predict_emotion(sample_text, tokenizer, model, label_encoder, maxlen=150)\n",
        "\n",
        "predicted_emotion  # Menampilkan emosi yang diprediksi"
      ]
    },
    {
      "cell_type": "code",
      "execution_count": 12,
      "metadata": {},
      "outputs": [
        {
          "name": "stdout",
          "output_type": "stream",
          "text": [
            "1275/1275 [==============================] - 7s 5ms/step\n",
            "File saved to path_to_exported_predictions.xlsx\n"
          ]
        }
      ],
      "source": [
        "# Buat prediksi pada data yang ada\n",
        "predictions = model.predict(X)\n",
        "\n",
        "# Ubah prediksi menjadi label menggunakan label_encoder\n",
        "predicted_labels = label_encoder.inverse_transform(np.argmax(predictions, axis=1))\n",
        "\n",
        "\n",
        "# Tambahkan hasil prediksi ke DataFrame\n",
        "df['Predicted_Emotion'] = predicted_labels\n",
        "\n",
        "# Menyimpan DataFrame yang telah diperbarui ke file Excel baru\n",
        "output_file_path = 'path_to_exported_predictions.xlsx'\n",
        "df.to_excel(output_file_path, index=False)\n",
        "\n",
        "print(f\"File saved to {output_file_path}\")"
      ]
    }
  ],
  "metadata": {
    "colab": {
      "provenance": []
    },
    "kernelspec": {
      "display_name": "Python 3",
      "name": "python3"
    },
    "language_info": {
      "codemirror_mode": {
        "name": "ipython",
        "version": 3
      },
      "file_extension": ".py",
      "mimetype": "text/x-python",
      "name": "python",
      "nbconvert_exporter": "python",
      "pygments_lexer": "ipython3",
      "version": "3.11.8"
    }
  },
  "nbformat": 4,
  "nbformat_minor": 0
}
